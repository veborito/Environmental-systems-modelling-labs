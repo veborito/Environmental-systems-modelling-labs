{
 "cells": [
  {
   "cell_type": "markdown",
   "metadata": {},
   "source": [
    "# Lab 2 - Modèle de la Fontaine de Vaucluse\n",
    "\n",
    "**Contexte et objectif**\n",
    "\n",
    "Dans ce mini projet, le but est de construire un modèle permettant de prévoir le débit d'une source karstique. Ce type de modèle est courament utilisé par les services ayant la responsabilité de fournir de l'eau potable à des communes. Pour estimer l'évolution des débits quelques semaines à l'avance et gérer la production d'eau potable, ils utilisent ce genre de modèles couplés à des modèles de prévision météorologiques.\n",
    "\n",
    "Ici, le but est de construire le modèle pour la source de la Fontaine de Vaucluse et comparer vos résultats à des données. Une partie du travail nécessaire lors de la création d'un tel modèle est la détermination des paramètres du modèle. Ici on vous donne les valeurs des paramètres et on se concentre sur la programation du modèle lui même. La détermination des paramètres n'est pas traitée. Cette question fera l'objet d'autres exercices et travaux dans ce cours.\n",
    "\n",
    "**Les données**\n",
    "\n",
    "Les données hydro-météorologiques vous sont fournies dans deux fichiers:\n",
    "- `FontaineDeVaucluseEtp.txt` contient les données d'évapotranspiration. Ces valeurs moyennes ont été estimées sur l'ensemble du bassin versant de la source.\n",
    "- `FontaineVauclusePluieDebit.txt` contient les données de précipitation et de débit de la source. Pour les précipitations, il s'agit aussi de valeurs moyennes sur le bassin versant.\n",
    "\n",
    "Chacun deux fichiers contiennent une entête qui décrit le contenu du fichier. \n",
    "\n",
    "Les deux fichiers ont une colonne contenant un **temps en jours** depuis  le 1er septembre 1994 qui correspond au début des mesures fournies dans ces fichiers, les données se terminent le 31 aout 2000. Pour ne pas perdre de temps dans le traitement des dates, nous vous recommandons d'utiliser ce temps en nombre de jours depuis le 1er septembre 1994 pour vos calculs. La fonction de formattage des dates est donnée dans une des cellules ci-dessous et vous pouvez l'utiliser pour annoter les abcisses de vos graphes. \n",
    "\n",
    "**Etapes du travail**\n",
    "\n",
    "Les composantes du modèle de réservoir pour la Fontaine de Vaucluse et les paramètres ont été décrit en cours. Le but maintenant pour vous est de construire par vous-même ce modèle. Les étapes principales sont :\n",
    "1. chargement et vérification des données (20%). Faites un graphe récapitulatif des données d'entrée: précipitation, évapotranspiration et de validation: débit à la source.\n",
    "2. interpolation des données d'évapotranspiration au même pas de temps que les données de précipitation (10%). Commentez votre choix de méthode d'interpolation.\n",
    "3.  programmation de la fonction de production et calcul de l'infiltration avec solve_ivp (20%) Programmez la fonction dhsoldt, et intégrez la sur l'intervalle d'observation en choisissant un pas de temps journalier. Faites un graphe des séries temporelles d'infiltration, d'évapotranspiration, de la charge dans le réservoir sol, et du débit d'infiltration.\n",
    "4.  calcul du bilan hydrique global du bassin versant sur la période d'observation (10%) - convertissez les données en millions de m3 et comparez les entrées: précipitation - evapo transpiration avec la valeur d'infiltration et le débit cumulé à la source. Que remarquez vous? \n",
    "5. réutilisation du code de la question 3. pour rajouter les deux réservoirs (lent et rapide) (20%) Programmez la fonction dhdt et intégrez la sur l'intervalle d'observation avec solve_ivp, puis calculez du débit à la source (20%)\n",
    "6. représentation graphique pour une comparaison et vérification des données modélisées et observées (20%) Faites un graphe de la série temporelle des trois réservoirs, puis une autre série temporelle comparant les débits modélisés avec ceux qui ont été observés sur l'intervalle choisi. Enfin comparez sur un scatter plot chaque paire de points (modélisé en abcisse, observé en ordonnée). Commentez abondamment ce que vous observez. \n",
    "\n",
    "*Remarque*: Les données de précipitation étant fournies à un pas de temps journalier, on vous recommande d'effectuer tous les calculs à un pas de temps journalier.\n"
   ]
  },
  {
   "cell_type": "code",
   "execution_count": null,
   "metadata": {},
   "outputs": [],
   "source": [
    "import numpy as np\n",
    "import matplotlib.pyplot as plt \n",
    "from scipy.interpolate import interp1d\n",
    "from scipy.integrate import solve_ivp"
   ]
  },
  {
   "cell_type": "markdown",
   "metadata": {},
   "source": [
    "## 1. Chargement et vérification des données"
   ]
  },
  {
   "cell_type": "code",
   "execution_count": null,
   "metadata": {},
   "outputs": [],
   "source": [
    "from datetime import datetime\n",
    "\n",
    "# on vous donne ici la fonction permettant de reformatter les dates données en colonne d'indice 1 des fichiers de donnée. \n",
    "def convert_date(d):\n",
    "    return datetime.strptime(str(int(d)), \"%Y%m%d\")\n",
    "\n",
    "convert_date = np.vectorize(convert_date)\n"
   ]
  },
  {
   "cell_type": "code",
   "execution_count": null,
   "metadata": {},
   "outputs": [],
   "source": []
  },
  {
   "cell_type": "markdown",
   "metadata": {},
   "source": [
    "## 2. Interpolation des données d'évapotranspiration "
   ]
  },
  {
   "cell_type": "code",
   "execution_count": null,
   "metadata": {},
   "outputs": [],
   "source": []
  },
  {
   "cell_type": "markdown",
   "metadata": {},
   "source": [
    "\n",
    "## 3. Production d'inflitration. \n",
    "\n",
    "On retient les formules d'infiltration en fonction de la precipitation et de l'evapotranspiration, ainsi que du stockage."
   ]
  },
  {
   "cell_type": "markdown",
   "metadata": {},
   "source": [
    "On définit ici une équation différentielle ordinaire $dh_{sol}/dt= g(t, h_{sol}, [pp(t), ept(t)], [h_{max}])$ qui dépend de paramètres, ainsi que de variables environnementales dépendant du temps. \n",
    "\n",
    "On a pour paramètre $h_{max}$ (charge maximale du réservoir sol)\n",
    "\n",
    "On définit deux fonctions renvoyant d'une part la quantité pluie en fonction du temps (pp_t), et d'autre l'évapotranspiration en fonction du temps (EPT_t), que l'on appelle dans la fonction dhsoldt\n"
   ]
  },
  {
   "cell_type": "code",
   "execution_count": null,
   "metadata": {},
   "outputs": [],
   "source": [
    "def dh_soldt(t, h_sol, h_max):\n",
    " \n",
    "    return dh_sol"
   ]
  },
  {
   "cell_type": "code",
   "execution_count": null,
   "metadata": {},
   "outputs": [],
   "source": [
    "h_max = 100\n",
    "hsol_0 = 0"
   ]
  },
  {
   "cell_type": "markdown",
   "metadata": {},
   "source": [
    "# 4. Estimation du bilan global du bassin versant\n",
    "\n",
    "Ce calcul est effectué pour vérifier les entrées et sorties du modèle. Vous pouvez calculer le volume de pluie cumulé, le volume d'évapotranspiration cumulé, le volume d'infiltration total, le volume total sorti à la source. "
   ]
  },
  {
   "cell_type": "code",
   "execution_count": null,
   "metadata": {},
   "outputs": [],
   "source": [
    "\n"
   ]
  },
  {
   "cell_type": "markdown",
   "metadata": {},
   "source": [
    "## 5. Définition du modèle de réservoir \n",
    "\n",
    "On adapte le code de la question 3. \n",
    "\n",
    "On définit ici un système d'équations différentielles ordinaires $d\\textbf{h}/dt= g(t, \\textbf{h}, [pp(t), ept(t)], [h_{max}, \\alpha1, \\alpha2, \\beta])$ qui dépend de paramètres, ainsi que de variables environnementales dépendant du temps. \n",
    "\n",
    "**h** est composé des variables de charge hydrauliques $h_{sol}$, $h_1$ et $h_2$.\n",
    "\n",
    "On a pour paramètres: \n",
    "1. $h_{max}$ (charge maximale du réservoir sol)\n",
    "2. $\\alpha1$ coefficient de tarissement du réservoir 1\n",
    "3. $\\alpha2$ coefficient de tarissement du réservoir 2\n",
    "4. $\\beta$ coefficient de répartition entre les deux réservoirs\n",
    "\n",
    "\n",
    "Après avoir intégré ce système avec solve_ivp, vous aurez les fonctions  $h_{sol}(t)$, $h_1(t)$ et $h_2(t)$. N'oubliez pas de calculer un débit observé à la source en utilisant la formule donnée en cours\n",
    "\n",
    "$$Q_{source}(t) = C \\times (\\alpha_1 h_1(t) + \\alpha_2  h_2(t))$$\n"
   ]
  },
  {
   "cell_type": "code",
   "execution_count": null,
   "metadata": {},
   "outputs": [],
   "source": [
    "def dhdt ( t,  h, *p):\n",
    "    \n",
    "    \n",
    "    return np.array([dh_sol, dh1, dh2])"
   ]
  },
  {
   "cell_type": "code",
   "execution_count": null,
   "metadata": {},
   "outputs": [],
   "source": [
    "# on vous donne les valeurs ajustées des paramètres du modèle ci-dessous\n",
    "alpha1 = 0.006\n",
    "alpha2 = 0.06\n",
    "beta = 0.63"
   ]
  },
  {
   "cell_type": "markdown",
   "metadata": {},
   "source": [
    "## 6. Comparaison données et modèle\n",
    "\n",
    "Faites un graphe de la série temporelle des trois réservoirs, puis une autre série temporelle comparant les débits modélisés avec ceux qui ont été observés sur l'intervalle choisi. Enfin comparez sur un scatter plot chaque paire de points (modélisé en abcisse, observé en ordonnée). Commentez abondamment ce que vous observez."
   ]
  },
  {
   "cell_type": "code",
   "execution_count": null,
   "metadata": {},
   "outputs": [],
   "source": []
  }
 ],
 "metadata": {
  "kernelspec": {
   "display_name": "Python 3 (ipykernel)",
   "language": "python",
   "name": "python3"
  },
  "language_info": {
   "codemirror_mode": {
    "name": "ipython",
    "version": 3
   },
   "file_extension": ".py",
   "mimetype": "text/x-python",
   "name": "python",
   "nbconvert_exporter": "python",
   "pygments_lexer": "ipython3",
   "version": "3.11.8"
  }
 },
 "nbformat": 4,
 "nbformat_minor": 4
}
